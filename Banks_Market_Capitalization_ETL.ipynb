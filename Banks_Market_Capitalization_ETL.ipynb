{
 "cells": [
  {
   "cell_type": "markdown",
   "id": "7a93aca3",
   "metadata": {},
   "source": [
    "# Banks Market Capitalization ETL Project\n",
    "\n",
    "This notebook extracts data about the world's largest banks, transforms it into multiple currencies, stores it in CSV and SQLite formats, runs queries, and generates visualizations.\n",
    "\n",
    "Author: Franck Echeverria Peñaloza\n"
   ]
  },
  {
   "cell_type": "markdown",
   "id": "429fdfee",
   "metadata": {},
   "source": [
    "## Imports\n",
    "\n",
    "Here we import libraries for:\n",
    "- Data extraction (`requests`, `BeautifulSoup`)\n",
    "- Data manipulation (`pandas`, `numpy`)\n",
    "- Database operations (`sqlite3`)\n",
    "- Visualization (`matplotlib`, `seaborn`)\n",
    "- Logging and system utilities (`datetime`, `os`)"
   ]
  },
  {
   "cell_type": "code",
   "execution_count": 1,
   "id": "35267657",
   "metadata": {},
   "outputs": [],
   "source": [
    "# Importing required libraries\n",
    "\n",
    "import requests\n",
    "import pandas as pd\n",
    "from datetime import datetime\n",
    "import sqlite3\n",
    "from bs4 import BeautifulSoup\n",
    "import numpy as np\n",
    "import matplotlib.pyplot as plt\n",
    "import seaborn as sns\n",
    "import os"
   ]
  },
  {
   "cell_type": "markdown",
   "id": "0636c2d4",
   "metadata": {},
   "source": [
    "## Define logging function to record ETL progress"
   ]
  },
  {
   "cell_type": "code",
   "execution_count": 2,
   "id": "77338186",
   "metadata": {},
   "outputs": [],
   "source": [
    "log_file = 'Banks_by_Market_Capitalization_ETL.txt'\n",
    "\n",
    "def log_progress(message):\n",
    "    \"\"\"\n",
    "    Logs messages with timestamps to track ETL progress.\n",
    "\n",
    "    Args:\n",
    "        message (str): The message to log.\n",
    "    \"\"\"\n",
    "    timestamp_format = '%Y/%m/%d %H:%M:%S'\n",
    "    now = datetime.now()\n",
    "    timestamp = now.strftime(timestamp_format)\n",
    "    with open(log_file, 'a') as log:\n",
    "        log.write(timestamp + ': ' + message + '\\n')\n"
   ]
  },
  {
   "cell_type": "markdown",
   "id": "a543ff07",
   "metadata": {},
   "source": [
    "## Function to extract bank data from the given URL"
   ]
  },
  {
   "cell_type": "code",
   "execution_count": 3,
   "id": "141431d5",
   "metadata": {},
   "outputs": [],
   "source": [
    "def extract(url_name):\n",
    "    \"\"\"\n",
    "    Extracts bank names and market capitalizations in USD from the target URL.\n",
    "\n",
    "    Args:\n",
    "        url_name (str): The webpage URL containing bank data.\n",
    "\n",
    "    Returns:\n",
    "        pd.DataFrame: Extracted bank data with columns 'Bank' and 'MC_USD_Billion'.\n",
    "    \"\"\"\n",
    "    log_progress('Call extract() function')\n",
    "    df = pd.DataFrame(columns=['Bank', 'MC_USD_Billion'])\n",
    "    try:\n",
    "        html_page = requests.get(url_name).text\n",
    "        data = BeautifulSoup(html_page, 'html.parser')\n",
    "        tables = data.find_all('tbody')\n",
    "        rows = tables[0].find_all('tr')\n",
    "\n",
    "        for row in rows:\n",
    "            col = row.find_all('td')\n",
    "            if len(col) != 0:\n",
    "                a = col[1].find_all('a')\n",
    "                data_dict = {\n",
    "                    'Bank': a[1].contents[0],\n",
    "                    'MC_USD_Billion': float(col[2].contents[0][:-1].replace(',', ''))\n",
    "                }\n",
    "                df1 = pd.DataFrame(data_dict, index=[0])\n",
    "                df = pd.concat([df, df1], ignore_index=True)\n",
    "        log_progress('Data extraction complete.')\n",
    "    except Exception as e:\n",
    "        log_progress(f\"Extraction failed: {e}\")\n",
    "    return df\n"
   ]
  },
  {
   "cell_type": "markdown",
   "id": "6f35f93b",
   "metadata": {},
   "source": [
    "## Function to transform data by adding converted currency columns"
   ]
  },
  {
   "cell_type": "code",
   "execution_count": 4,
   "id": "6a594877",
   "metadata": {},
   "outputs": [],
   "source": [
    "def transform(data, exchange_file):\n",
    "    \"\"\"\n",
    "    Transforms data by adding market capitalization columns in GBP, EUR, and INR.\n",
    "\n",
    "    Args:\n",
    "        data (pd.DataFrame): DataFrame with bank data.\n",
    "        exchange_file (str): Path to exchange rate CSV file.\n",
    "\n",
    "    Returns:\n",
    "        pd.DataFrame: Transformed DataFrame with new currency columns.\n",
    "    \"\"\"\n",
    "    log_progress('Call transform() function')\n",
    "    try:\n",
    "        exchange = pd.read_csv(exchange_file)\n",
    "        exchange = exchange.set_index('Currency').to_dict()['Rate']\n",
    "        data['MC_GBP_Billion'] = np.round(data['MC_USD_Billion'] * exchange['GBP'], 2)\n",
    "        data['MC_EUR_Billion'] = np.round(data['MC_USD_Billion'] * exchange['EUR'], 2)\n",
    "        data['MC_INR_Billion'] = np.round(data['MC_USD_Billion'] * exchange['INR'], 2)\n",
    "        log_progress('Transformation complete.')\n",
    "    except Exception as e:\n",
    "        log_progress(f\"Transformation failed: {e}\")\n",
    "    return data"
   ]
  },
  {
   "cell_type": "markdown",
   "id": "e5b58414",
   "metadata": {},
   "source": [
    "## Function to save DataFrame to CSV"
   ]
  },
  {
   "cell_type": "code",
   "execution_count": 5,
   "id": "04d98547",
   "metadata": {},
   "outputs": [],
   "source": [
    "def load_to_csv(file_name, data):\n",
    "    \"\"\"\n",
    "    Saves DataFrame to a CSV file.\n",
    "\n",
    "    Args:\n",
    "        file_name (str): Output file name.\n",
    "        data (pd.DataFrame): DataFrame to save.\n",
    "    \"\"\"\n",
    "    log_progress('Saving data to CSV.')\n",
    "    data.to_csv(file_name, index=False)\n",
    "    log_progress('Data saved to CSV.')"
   ]
  },
  {
   "cell_type": "markdown",
   "id": "f27b8cac",
   "metadata": {},
   "source": [
    "## Function to load DataFrame to SQLite database"
   ]
  },
  {
   "cell_type": "code",
   "execution_count": 6,
   "id": "fba79dd8",
   "metadata": {},
   "outputs": [],
   "source": [
    "def load_to_db(db_name, table_name, data):\n",
    "    \"\"\"\n",
    "    Loads DataFrame to a SQLite database table.\n",
    "\n",
    "    Args:\n",
    "        db_name (str): SQLite database name.\n",
    "        table_name (str): Table name to create/replace.\n",
    "        data (pd.DataFrame): DataFrame to load.\n",
    "\n",
    "    Returns:\n",
    "        sqlite3.Connection: Connection object to the database.\n",
    "    \"\"\"\n",
    "    log_progress('Initiating DB load.')\n",
    "    conn = sqlite3.connect(db_name)\n",
    "    data.to_sql(table_name, conn, if_exists='replace', index=False)\n",
    "    log_progress('Data loaded to DB.')\n",
    "    return conn"
   ]
  },
  {
   "cell_type": "markdown",
   "id": "09b414e6",
   "metadata": {},
   "source": [
    "## Function to run SQL queries"
   ]
  },
  {
   "cell_type": "code",
   "execution_count": 7,
   "id": "1da7f4a1",
   "metadata": {},
   "outputs": [],
   "source": [
    "def run_query(query, conn):\n",
    "    \"\"\"\n",
    "    Runs an SQL query and returns the result.\n",
    "\n",
    "    Args:\n",
    "        query (str): SQL query string.\n",
    "        conn (sqlite3.Connection): Database connection.\n",
    "\n",
    "    Returns:\n",
    "        pd.DataFrame: Query result.\n",
    "    \"\"\"\n",
    "    return pd.read_sql(query, conn)"
   ]
  },
  {
   "cell_type": "markdown",
   "id": "394cb551",
   "metadata": {},
   "source": [
    "## Function to plot bar chart of top banks"
   ]
  },
  {
   "cell_type": "code",
   "execution_count": 8,
   "id": "5f6c4d44",
   "metadata": {},
   "outputs": [],
   "source": [
    "# Function to plot bar chart of top banks\n",
    "\n",
    "def plot_top_banks(data):\n",
    "    \"\"\"\n",
    "    Generates a bar plot of banks by market cap in USD.\n",
    "\n",
    "    Args:\n",
    "        data (pd.DataFrame): DataFrame with bank data.\n",
    "    \"\"\"\n",
    "    plt.figure(figsize=(10,6))\n",
    "    sns.barplot(x='MC_USD_Billion', y='Bank', data=data.sort_values(by='MC_USD_Billion', ascending=False))\n",
    "    plt.title('Top Banks by Market Cap (USD Billion)')\n",
    "    plt.xlabel('Market Cap (USD Billion)')\n",
    "    plt.ylabel('Bank')\n",
    "    plt.tight_layout()\n",
    "    plt.savefig('top_banks_usd.png')\n",
    "    plt.show()"
   ]
  },
  {
   "cell_type": "markdown",
   "id": "5c87ee95",
   "metadata": {},
   "source": [
    "## Executing the ETL pipeline"
   ]
  },
  {
   "cell_type": "code",
   "execution_count": null,
   "id": "6e818956",
   "metadata": {},
   "outputs": [
    {
     "name": "stderr",
     "output_type": "stream",
     "text": [
      "C:\\Users\\Franck\\AppData\\Local\\Temp\\ipykernel_29232\\3757298055.py:28: FutureWarning: The behavior of DataFrame concatenation with empty or all-NA entries is deprecated. In a future version, this will no longer exclude empty or all-NA columns when determining the result dtypes. To retain the old behavior, exclude the relevant entries before the concat operation.\n",
      "  df = pd.concat([df, df1], ignore_index=True)\n"
     ]
    },
    {
     "name": "stdout",
     "output_type": "stream",
     "text": [
      "                                      Bank  MC_GBP_Billion\n",
      "0                           JPMorgan Chase          346.34\n",
      "1                          Bank of America          185.22\n",
      "2  Industrial and Commercial Bank of China          155.65\n",
      "3               Agricultural Bank of China          128.54\n",
      "4                                HDFC Bank          126.33\n",
      "5                              Wells Fargo          124.70\n",
      "6                        HSBC Holdings PLC          119.12\n",
      "7                           Morgan Stanley          112.66\n",
      "8                  China Construction Bank          111.86\n",
      "9                            Bank of China          109.45\n",
      "                                      Bank  MC_EUR_Billion\n",
      "0                           JPMorgan Chase          402.62\n",
      "1                          Bank of America          215.31\n",
      "2  Industrial and Commercial Bank of China          180.94\n",
      "3               Agricultural Bank of China          149.43\n",
      "4                                HDFC Bank          146.86\n",
      "5                              Wells Fargo          144.96\n",
      "6                        HSBC Holdings PLC          138.48\n",
      "7                           Morgan Stanley          130.97\n",
      "8                  China Construction Bank          130.03\n",
      "9                            Bank of China          127.23\n",
      "                                      Bank  MC_INR_Billion\n",
      "0                           JPMorgan Chase        35910.71\n",
      "1                          Bank of America        19204.58\n",
      "2  Industrial and Commercial Bank of China        16138.75\n",
      "3               Agricultural Bank of China        13328.41\n",
      "4                                HDFC Bank        13098.63\n",
      "5                              Wells Fargo        12929.42\n",
      "6                        HSBC Holdings PLC        12351.26\n",
      "7                           Morgan Stanley        11681.85\n",
      "8                  China Construction Bank        11598.07\n",
      "9                            Bank of China        11348.39\n"
     ]
    },
    {
     "data": {
      "image/png": "[encoded data removed]",
      "text/plain": [
       "<Figure size 1000x600 with 1 Axes>"
      ]
     },
     "metadata": {},
     "output_type": "display_data"
    }
   ],
   "source": [
    "# Define file paths and URLs\n",
    "url_name = 'https://web.archive.org/web/20230908091635/https://en.wikipedia.org/wiki/List_of_largest_banks'\n",
    "db_name = 'Banks.db'\n",
    "table_name = 'Largest_banks'\n",
    "target_file = 'Banks_by_Market_Capitalization.csv'\n",
    "exchange_file = 'exchange_rate.csv'\n",
    "\n",
    "# Run ETL steps\n",
    "log_progress('Starting ETL process')\n",
    "data = extract(url_name)\n",
    "data_transformed = transform(data, exchange_file)\n",
    "load_to_csv(target_file, data_transformed)\n",
    "conn = load_to_db(db_name, table_name, data_transformed)\n",
    "\n",
    "# Run example queries\n",
    "print(run_query(f\"SELECT Bank, MC_GBP_Billion FROM {table_name}\", conn))\n",
    "print(run_query(f\"SELECT Bank, MC_EUR_Billion FROM {table_name}\", conn))\n",
    "print(run_query(f\"SELECT Bank, MC_INR_Billion FROM {table_name}\", conn))\n",
    "\n",
    "# Generate visualization\n",
    "plot_top_banks(data_transformed)\n",
    "\n",
    "# Closing DB connection\n",
    "conn.close()\n",
    "\n",
    "log_progress('ETL process complete.')\n"
   ]
  },
  {
   "cell_type": "markdown",
   "id": "8eb4a13d",
   "metadata": {},
   "source": [
    "## Conclusion\n",
    "\n",
    "In this notebook, I:\n",
    "\n",
    "1. Extracted bank market capitalization data from Wikipedia.\n",
    "2. Transformed it into GBP, EUR, and INR using provided exchange rates.\n",
    "3. Loaded the results into a CSV and SQLite database.\n",
    "4. Ran SQL queries for currency-specific outputs.\n",
    "5. Created a bar plot visualization of market capitalizations.\n"
   ]
  }
 ],
 "metadata": {
  "kernelspec": {
   "display_name": "Python 3",
   "language": "python",
   "name": "python3"
  },
  "language_info": {
   "codemirror_mode": {
    "name": "ipython",
    "version": 3
   },
   "file_extension": ".py",
   "mimetype": "text/x-python",
   "name": "python",
   "nbconvert_exporter": "python",
   "pygments_lexer": "ipython3",
   "version": "3.12.6"
  }
 },
 "nbformat": 4,
 "nbformat_minor": 5
}
